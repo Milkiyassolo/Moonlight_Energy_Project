{
 "cells": [
  {
   "cell_type": "code",
   "execution_count": null,
   "metadata": {},
   "outputs": [],
   "source": [
    "#summary statistics "
   ]
  },
  {
   "cell_type": "code",
   "execution_count": null,
   "metadata": {},
   "outputs": [],
   "source": [
    "#Plots and Graphs\n",
    "# Calculate average GHI for each country\n",
    "avg_ghi = merged_df.groupby('Country')['GHI'].mean().reset_index()\n",
    "\n",
    "# Plot average GHI comparison\n",
    "plt.figure(figsize=(8, 6))\n",
    "sns.barplot(data=avg_ghi, x='Country', y='GHI', palette='viridis')\n",
    "plt.title('Average Global Horizontal Irradiance (GHI) Across Countries')\n",
    "plt.xlabel('Country')\n",
    "plt.ylabel('Average GHI (W/m²)')\n",
    "plt.tight_layout()\n",
    "plt.show()"
   ]
  }
 ],
 "metadata": {
  "kernelspec": {
   "display_name": "base",
   "language": "python",
   "name": "python3"
  },
  "language_info": {
   "name": "python",
   "version": "3.9.20"
  },
  "orig_nbformat": 4
 },
 "nbformat": 4,
 "nbformat_minor": 2
}
